{
 "cells": [
  {
   "cell_type": "markdown",
   "id": "3efa914b",
   "metadata": {},
   "source": [
    "1. What advantages do Excel spreadsheets have over CSV spreadsheets?\n",
    "\n",
    "A.\n",
    "1.  Excel can perform VBA Coding, functions, formulas and create summaries easily when compared to CS.\n",
    "2.  Reading large data set is much easier for the end-user to read, comprehend and understand when compared to CSV.\n",
    "3.  Excel also provides the user option for external linking of data from other sources, and also, the user can do custom add-ins."
   ]
  },
  {
   "cell_type": "markdown",
   "id": "0425c7b9",
   "metadata": {},
   "source": [
    "2. What do you pass to csv.reader() and csv.writer() to create reader and writer objects?\n",
    "\n",
    "A. call open() and pass it 'w' to open a file in write mode. This will create the object you can then pass to csv. writer to create a Writer object."
   ]
  },
  {
   "cell_type": "markdown",
   "id": "dfeac75d",
   "metadata": {},
   "source": [
    "3. What modes do File objects for reader and writer objects need to be opened in?\n",
    "\n",
    "A. W+ opens a text file for both reading and writing."
   ]
  },
  {
   "cell_type": "markdown",
   "id": "8704f4b9",
   "metadata": {},
   "source": [
    "4. What method takes a list argument and writes it to a CSV file?\n",
    "\n",
    "A. The most common method to write data from a list to CSV file is the writerow() method."
   ]
  },
  {
   "cell_type": "markdown",
   "id": "a5b27edd",
   "metadata": {},
   "source": [
    "5. What do the keyword arguments delimiter and line terminator do?\n",
    "\n",
    "A. The delimiter is the character that appears between cells on a row. By default, the delimiter for a CSV file is a comma. The line terminator is the character that comes at the end of a row. By default, the line terminator is a newline."
   ]
  },
  {
   "cell_type": "markdown",
   "id": "cf6006cc",
   "metadata": {},
   "source": [
    "6. What function takes a string of JSON data and returns a Python data structure?\n",
    "\n",
    "A. json.loads()"
   ]
  },
  {
   "cell_type": "markdown",
   "id": "3d85050e",
   "metadata": {},
   "source": [
    "7. What function takes a Python data structure and returns a string of JSON data?\n",
    "\n",
    "A. json.dumps()"
   ]
  }
 ],
 "metadata": {
  "kernelspec": {
   "display_name": "Python 3 (ipykernel)",
   "language": "python",
   "name": "python3"
  },
  "language_info": {
   "codemirror_mode": {
    "name": "ipython",
    "version": 3
   },
   "file_extension": ".py",
   "mimetype": "text/x-python",
   "name": "python",
   "nbconvert_exporter": "python",
   "pygments_lexer": "ipython3",
   "version": "3.9.7"
  }
 },
 "nbformat": 4,
 "nbformat_minor": 5
}
